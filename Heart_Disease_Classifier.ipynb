{
 "cells": [
  {
   "cell_type": "markdown",
   "id": "66fe8c2a",
   "metadata": {},
   "source": [
    "## 1. Problem Definition\n",
    ">This model aims to classify the patient as having heart disease or healthy, based on patient health records"
   ]
  },
  {
   "cell_type": "markdown",
   "id": "c5e2bc01",
   "metadata": {},
   "source": [
    "## 2. Data\n",
    "* The dataset is originally taken from UCI repository [https://archive.ics.uci.edu/ml/datasets/Heart+Disease](https://archive.ics.uci.edu/ml/datasets/Heart+Disease)\n",
    "* The dataset can also be found at [https://www.kaggle.com/datasets/johnsmith88/heart-disease-dataset](https://www.kaggle.com/datasets/johnsmith88/heart-disease-dataset)"
   ]
  },
  {
   "cell_type": "markdown",
   "id": "6cebcff8",
   "metadata": {},
   "source": [
    "## 3. Evaluation\n",
    "As this model aims at predicting crucial information related to whether a person has heart disease or not, objective is to get more than 90% accuracy"
   ]
  },
  {
   "cell_type": "markdown",
   "id": "d56138ba",
   "metadata": {},
   "source": [
    "## 4. Features\n",
    "The dataset has following patient attributes:\n",
    "* `age`\n",
    "* `sex`\n",
    "* `chest pain type` (4 values)\n",
    "* `resting blood pressure`\n",
    "* `serum cholestoral` in mg/dl\n",
    "* `fasting blood sugar` > 120 mg/dl\n",
    "* `resting electrocardiographic` results (values 0,1,2)\n",
    "* `maximum heart rate` achieved\n",
    "* `exercise induced angina`\n",
    "* `oldpeak` = ST depression induced by exercise relative to rest\n",
    "* the slope of the `peak exercise ST segment`\n",
    "* number of major vessels (0-3) colored by flourosopy\n",
    "* `thal`: 0 = normal; 1 = fixed defect; 2 = reversable defect"
   ]
  },
  {
   "cell_type": "markdown",
   "id": "2de8771e",
   "metadata": {},
   "source": [
    "### 5.1 Getting Started with standard imports"
   ]
  },
  {
   "cell_type": "code",
   "execution_count": null,
   "id": "1911a933",
   "metadata": {},
   "outputs": [],
   "source": [
    "#base imports\n",
    "import numpy as np\n",
    "import pandas as pd\n",
    "import matplotlib.pyplot as plt\n",
    "%matplotlib inline\n",
    "\n",
    "#import models\n",
    "from sklearn.svm import LinearSVC\n",
    "from sklearn.neighbors import KNeighborsClassifier\n",
    "from sklearn.ensemble import RandomForestClassifier\n",
    "\n",
    "#import for evaluation\n",
    "from sklearn.model_selection import train_test_split\n",
    "from sklearn.model_selection import RandomizedSearchCV\n",
    "from sklearn.metrics import ConfusionMatrixDisplay, classification_report\n",
    "from sklearn.metrics import accuracy_score, precision_score, recall_score, f1_score\n",
    "from sklearn.metrics import RocCurveDisplay\n",
    "\n",
    "#import for storing model\n",
    "from joblib import load, dump"
   ]
  },
  {
   "cell_type": "markdown",
   "id": "f2c87d41",
   "metadata": {},
   "source": [
    "#### 5.2.1 Importing data\n"
   ]
  },
  {
   "cell_type": "code",
   "execution_count": null,
   "id": "582162b1",
   "metadata": {},
   "outputs": [],
   "source": [
    "heart_df = pd.read_csv(\"./data/heart-disease.csv\")\n",
    "heart_df.head()"
   ]
  },
  {
   "cell_type": "markdown",
   "id": "091c4316",
   "metadata": {},
   "source": [
    "#### 5.2.2 Checking for missing values"
   ]
  },
  {
   "cell_type": "code",
   "execution_count": null,
   "id": "d3523742",
   "metadata": {},
   "outputs": [],
   "source": [
    "heart_df.isna().sum()"
   ]
  },
  {
   "cell_type": "markdown",
   "id": "0021f5ce",
   "metadata": {},
   "source": [
    "#### 5.2.3 Splitting into dependendent and target variables"
   ]
  },
  {
   "cell_type": "code",
   "execution_count": null,
   "id": "e7a0b245",
   "metadata": {},
   "outputs": [],
   "source": [
    "x = heart_df.drop(\"target\", axis = 1)\n",
    "y = heart_df[\"target\"]\n",
    "x_train, x_test, y_train, y_test = train_test_split(x, y, test_size=0.2)\n",
    "x, y"
   ]
  },
  {
   "cell_type": "markdown",
   "id": "d23a9206",
   "metadata": {},
   "source": [
    "### 5.3 Training models\n",
    "* Using Linear Support Vector Classifier estimator"
   ]
  },
  {
   "cell_type": "code",
   "execution_count": null,
   "id": "a4af3dca",
   "metadata": {},
   "outputs": [],
   "source": [
    "#Set random seed\n",
    "np.random.seed(42)\n",
    "\n",
    "#Hyper Parameters to use\n",
    "hyperParameters = {\n",
    "    \"max_iter\" : [1000, 2000, 3000, 4000, 5000]\n",
    "}\n",
    "\n",
    "#Instantiating model\n",
    "linearSVCModel = LinearSVC()\n",
    "rs_linearSVCModel = RandomizedSearchCV(linearSVCModel, hyperParameters, cv = 5, verbose = 2)\n",
    "\n",
    "#Fitting data\n",
    "rs_linearSVCModel.fit(x_train, y_train)\n",
    "\n",
    "#Making predictions\n",
    "y_preds1 = rs_linearSVCModel.predict(x_test)\n",
    "\n",
    "#score of model\n",
    "rs_linearSVCModel_score = rs_linearSVCModel.score(x_test, y_test)\n",
    "print(f\"Linear SVC Model accuracy = {rs_linearSVCModel_score:.2f}\")\n",
    "\n",
    "#confusion matrix display \n",
    "ConfusionMatrixDisplay.from_predictions(y_test, y_preds1)"
   ]
  },
  {
   "cell_type": "markdown",
   "id": "c8bf3744",
   "metadata": {},
   "source": [
    "* Using KNeighborsClassifier estimator"
   ]
  },
  {
   "cell_type": "code",
   "execution_count": null,
   "id": "a9ff1671",
   "metadata": {
    "scrolled": true
   },
   "outputs": [],
   "source": [
    "#Set random seed\n",
    "np.random.seed(42)\n",
    "\n",
    "#Hyper Parameters to use\n",
    "hyperParameters = {\n",
    "    \"n_neighbors\": [3, 5, 7, 9],\n",
    "    \"algorithm\": [\"ball_tree\", \"kd_tree\", \"brute\"]\n",
    "}\n",
    "\n",
    "#Instantiating model\n",
    "model = KNeighborsClassifier()\n",
    "rs_KNeighborsModel = RandomizedSearchCV(model, hyperParameters, cv = 5, verbose = 2)\n",
    "\n",
    "#Fitting data\n",
    "rs_KNeighborsModel.fit(x_test, y_test)\n",
    "\n",
    "#Making predictions\n",
    "y_preds2 = rs_KNeighborsModel.predict(x_test)\n",
    "\n",
    "#score of model\n",
    "rs_KNeighborModel_score = rs_KNeighborsModel.score(x_test, y_test)\n",
    "print(f\"KNeighbor Classifier Model accuracy = {rs_KNeighborModel_score:.2f}\")\n",
    "\n",
    "#confusion matrix display \n",
    "ConfusionMatrixDisplay.from_predictions(y_test, y_preds2)"
   ]
  },
  {
   "cell_type": "markdown",
   "id": "ef7c878d",
   "metadata": {},
   "source": [
    "* Using RandomForestClassifier estimator"
   ]
  },
  {
   "cell_type": "code",
   "execution_count": null,
   "id": "e11165a6",
   "metadata": {
    "scrolled": true
   },
   "outputs": [],
   "source": [
    "#Set random seed\n",
    "np.random.seed(42)\n",
    "\n",
    "#Hyper Parameters to use\n",
    "hyperParameters = {\n",
    "    \"n_estimators\": [10, 100, 200, 500, 1000, 1200],\n",
    "    \"max_depth\": [None, 5, 10, 20, 30],\n",
    "    \"max_features\": [\"auto\", \"sqrt\"],\n",
    "    \"min_samples_split\": [2, 4, 6],\n",
    "    \"min_samples_leaf\": [1, 2, 4]\n",
    "}\n",
    "\n",
    "#Instantiating model\n",
    "model = RandomForestClassifier()\n",
    "rs_RandomForestClassifier = RandomizedSearchCV(model, hyperParameters, cv = 5, verbose = 2)\n",
    "\n",
    "#Fitting data\n",
    "rs_RandomForestClassifier.fit(x_test, y_test)\n",
    "\n",
    "#Making predictions\n",
    "y_preds3 = rs_RandomForestClassifier.predict(x_test)\n",
    "\n",
    "#score of model\n",
    "rs_RandomForestClassifierModel_score = rs_RandomForestClassifier.score(x_test, y_test)\n",
    "print(f\"Random Forest Classifier Model accuracy = {rs_RandomForestClassifierModel_score:.2f}\")\n",
    "\n",
    "#confusion matrix display \n",
    "ConfusionMatrixDisplay.from_predictions(y_test, y_preds3)"
   ]
  },
  {
   "cell_type": "markdown",
   "id": "b4ea114a",
   "metadata": {},
   "source": [
    "### 6. Comparison"
   ]
  },
  {
   "cell_type": "code",
   "execution_count": null,
   "id": "a6b0dfff",
   "metadata": {},
   "outputs": [],
   "source": [
    "def evaluatePrediction(y_true, y_preds):\n",
    "    accuracy = accuracy_score(y_true, y_preds)\n",
    "    precision = precision_score(y_true, y_preds)\n",
    "    recall = recall_score(y_true, y_preds)\n",
    "    f1 = f1_score(y_true, y_preds)\n",
    "    return {\"accuracy\": round(accuracy, 2),\n",
    "           \"precision\": round(precision, 2),\n",
    "           \"recall\": round(recall, 2),\n",
    "           \"f1-score\": round(f1, 2)}\n"
   ]
  },
  {
   "cell_type": "code",
   "execution_count": null,
   "id": "03da88d0",
   "metadata": {},
   "outputs": [],
   "source": [
    "evaluate_metrics = pd.DataFrame({\n",
    "    \"Linear SVC\": evaluatePrediction(y_test, y_preds1),\n",
    "    \"KNeighbors Classifier\": evaluatePrediction(y_test, y_preds2),\n",
    "    \"Random Forest Classifier\": evaluatePrediction(y_test, y_preds3)\n",
    "})\n",
    "evaluate_metrics.plot.bar()"
   ]
  },
  {
   "cell_type": "code",
   "execution_count": null,
   "id": "5967761d",
   "metadata": {},
   "outputs": [],
   "source": [
    "#save models\n",
    "\n",
    "#Linear SVC\n",
    "dump(rs_linearSVCModel, filename = \"model/LinearSVCModel.joblib\")\n",
    "\n",
    "#KNeighbors Classifier\n",
    "dump(rs_KNeighborsModel, filename = \"model/KNeighborsClassifier.joblib\")\n",
    "\n",
    "#Random Forest Classifier\n",
    "dump(rs_RandomForestClassifier, filename = \"model/RandomForestClassifier.joblib\")"
   ]
  },
  {
   "cell_type": "code",
   "execution_count": null,
   "id": "c76de669",
   "metadata": {},
   "outputs": [],
   "source": []
  }
 ],
 "metadata": {
  "kernelspec": {
   "display_name": "Python 3 (ipykernel)",
   "language": "python",
   "name": "python3"
  },
  "language_info": {
   "codemirror_mode": {
    "name": "ipython",
    "version": 3
   },
   "file_extension": ".py",
   "mimetype": "text/x-python",
   "name": "python",
   "nbconvert_exporter": "python",
   "pygments_lexer": "ipython3",
   "version": "3.8.16"
  }
 },
 "nbformat": 4,
 "nbformat_minor": 5
}
