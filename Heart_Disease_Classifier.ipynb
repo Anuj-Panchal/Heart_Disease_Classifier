{
 "cells": [
  {
   "cell_type": "markdown",
   "id": "66fe8c2a",
   "metadata": {},
   "source": [
    "## 1. Problem Definition\n",
    ">This model aims to classify the patient as having heart disease or healthy, based on patient health records"
   ]
  },
  {
   "cell_type": "markdown",
   "id": "c5e2bc01",
   "metadata": {},
   "source": [
    "## 2. Data\n",
    "* The dataset is originally taken from UCI repository [https://archive.ics.uci.edu/ml/datasets/Heart+Disease](https://archive.ics.uci.edu/ml/datasets/Heart+Disease)\n",
    "* The dataset can also be found at [https://www.kaggle.com/datasets/johnsmith88/heart-disease-dataset](https://www.kaggle.com/datasets/johnsmith88/heart-disease-dataset)"
   ]
  },
  {
   "cell_type": "markdown",
   "id": "6cebcff8",
   "metadata": {},
   "source": [
    "## 3. Evaluation\n",
    "As this model aims at predicting crucial information related to whether a person has heart disease or not, objective is to get more than 90% accuracy"
   ]
  },
  {
   "cell_type": "markdown",
   "id": "d56138ba",
   "metadata": {},
   "source": [
    "## 4. Features\n",
    "The dataset has following patient attributes:\n",
    "* `age`\n",
    "* `sex`\n",
    "* `chest pain type` (4 values)\n",
    "* `resting blood pressure`\n",
    "* `serum cholestoral` in mg/dl\n",
    "* `fasting blood sugar` > 120 mg/dl\n",
    "* `resting electrocardiographic` results (values 0,1,2)\n",
    "* `maximum heart rate` achieved\n",
    "* `exercise induced angina`\n",
    "* `oldpeak` = ST depression induced by exercise relative to rest\n",
    "* the slope of the `peak exercise ST segment`\n",
    "* number of major vessels (0-3) colored by flourosopy\n",
    "* `thal`: 0 = normal; 1 = fixed defect; 2 = reversable defect"
   ]
  },
  {
   "cell_type": "markdown",
   "id": "2de8771e",
   "metadata": {},
   "source": [
    "### 5.1 Getting Started with standard imports"
   ]
  },
  {
   "cell_type": "code",
   "execution_count": 1,
   "id": "1911a933",
   "metadata": {},
   "outputs": [],
   "source": [
    "#base imports\n",
    "import numpy as np\n",
    "import pandas as pd\n",
    "import matplotlib.pyplot as plt\n",
    "%matplotlib inline\n",
    "\n",
    "#import models\n",
    "from sklearn.svm import LinearSVC\n",
    "from sklearn.neighbors import KNeighborsClassifier\n",
    "from sklearn.ensemble import RandomForestClassifier\n",
    "\n",
    "#import for evaluation\n",
    "from sklearn.model_selection import train_test_split\n",
    "from sklearn.model_selection import RandomizedSearchCV\n",
    "from sklearn.metrics import ConfusionMatrixDisplay, classification_report\n",
    "from sklearn.metrics import accuracy_score, precision_score, recall_score, f1_score\n",
    "from sklearn.metrics import RocCurveDisplay\n",
    "\n",
    "#import for storing model\n",
    "from joblib import load, dump"
   ]
  },
  {
   "cell_type": "markdown",
   "id": "f2c87d41",
   "metadata": {},
   "source": [
    "#### 5.2.1 Importing data\n"
   ]
  },
  {
   "cell_type": "code",
   "execution_count": 2,
   "id": "582162b1",
   "metadata": {},
   "outputs": [
    {
     "data": {
      "text/html": [
       "<div>\n",
       "<style scoped>\n",
       "    .dataframe tbody tr th:only-of-type {\n",
       "        vertical-align: middle;\n",
       "    }\n",
       "\n",
       "    .dataframe tbody tr th {\n",
       "        vertical-align: top;\n",
       "    }\n",
       "\n",
       "    .dataframe thead th {\n",
       "        text-align: right;\n",
       "    }\n",
       "</style>\n",
       "<table border=\"1\" class=\"dataframe\">\n",
       "  <thead>\n",
       "    <tr style=\"text-align: right;\">\n",
       "      <th></th>\n",
       "      <th>age</th>\n",
       "      <th>sex</th>\n",
       "      <th>cp</th>\n",
       "      <th>trestbps</th>\n",
       "      <th>chol</th>\n",
       "      <th>fbs</th>\n",
       "      <th>restecg</th>\n",
       "      <th>thalach</th>\n",
       "      <th>exang</th>\n",
       "      <th>oldpeak</th>\n",
       "      <th>slope</th>\n",
       "      <th>ca</th>\n",
       "      <th>thal</th>\n",
       "      <th>target</th>\n",
       "    </tr>\n",
       "  </thead>\n",
       "  <tbody>\n",
       "    <tr>\n",
       "      <th>0</th>\n",
       "      <td>63</td>\n",
       "      <td>1</td>\n",
       "      <td>3</td>\n",
       "      <td>145</td>\n",
       "      <td>233</td>\n",
       "      <td>1</td>\n",
       "      <td>0</td>\n",
       "      <td>150</td>\n",
       "      <td>0</td>\n",
       "      <td>2.3</td>\n",
       "      <td>0</td>\n",
       "      <td>0</td>\n",
       "      <td>1</td>\n",
       "      <td>1</td>\n",
       "    </tr>\n",
       "    <tr>\n",
       "      <th>1</th>\n",
       "      <td>37</td>\n",
       "      <td>1</td>\n",
       "      <td>2</td>\n",
       "      <td>130</td>\n",
       "      <td>250</td>\n",
       "      <td>0</td>\n",
       "      <td>1</td>\n",
       "      <td>187</td>\n",
       "      <td>0</td>\n",
       "      <td>3.5</td>\n",
       "      <td>0</td>\n",
       "      <td>0</td>\n",
       "      <td>2</td>\n",
       "      <td>1</td>\n",
       "    </tr>\n",
       "    <tr>\n",
       "      <th>2</th>\n",
       "      <td>41</td>\n",
       "      <td>0</td>\n",
       "      <td>1</td>\n",
       "      <td>130</td>\n",
       "      <td>204</td>\n",
       "      <td>0</td>\n",
       "      <td>0</td>\n",
       "      <td>172</td>\n",
       "      <td>0</td>\n",
       "      <td>1.4</td>\n",
       "      <td>2</td>\n",
       "      <td>0</td>\n",
       "      <td>2</td>\n",
       "      <td>1</td>\n",
       "    </tr>\n",
       "    <tr>\n",
       "      <th>3</th>\n",
       "      <td>56</td>\n",
       "      <td>1</td>\n",
       "      <td>1</td>\n",
       "      <td>120</td>\n",
       "      <td>236</td>\n",
       "      <td>0</td>\n",
       "      <td>1</td>\n",
       "      <td>178</td>\n",
       "      <td>0</td>\n",
       "      <td>0.8</td>\n",
       "      <td>2</td>\n",
       "      <td>0</td>\n",
       "      <td>2</td>\n",
       "      <td>1</td>\n",
       "    </tr>\n",
       "    <tr>\n",
       "      <th>4</th>\n",
       "      <td>57</td>\n",
       "      <td>0</td>\n",
       "      <td>0</td>\n",
       "      <td>120</td>\n",
       "      <td>354</td>\n",
       "      <td>0</td>\n",
       "      <td>1</td>\n",
       "      <td>163</td>\n",
       "      <td>1</td>\n",
       "      <td>0.6</td>\n",
       "      <td>2</td>\n",
       "      <td>0</td>\n",
       "      <td>2</td>\n",
       "      <td>1</td>\n",
       "    </tr>\n",
       "  </tbody>\n",
       "</table>\n",
       "</div>"
      ],
      "text/plain": [
       "   age  sex  cp  trestbps  chol  fbs  restecg  thalach  exang  oldpeak  slope  \\\n",
       "0   63    1   3       145   233    1        0      150      0      2.3      0   \n",
       "1   37    1   2       130   250    0        1      187      0      3.5      0   \n",
       "2   41    0   1       130   204    0        0      172      0      1.4      2   \n",
       "3   56    1   1       120   236    0        1      178      0      0.8      2   \n",
       "4   57    0   0       120   354    0        1      163      1      0.6      2   \n",
       "\n",
       "   ca  thal  target  \n",
       "0   0     1       1  \n",
       "1   0     2       1  \n",
       "2   0     2       1  \n",
       "3   0     2       1  \n",
       "4   0     2       1  "
      ]
     },
     "execution_count": 2,
     "metadata": {},
     "output_type": "execute_result"
    }
   ],
   "source": [
    "heart_df = pd.read_csv(\"./data/heart-disease.csv\")\n",
    "heart_df.head()"
   ]
  },
  {
   "cell_type": "markdown",
   "id": "091c4316",
   "metadata": {},
   "source": [
    "#### 5.2.2 Checking for missing values"
   ]
  },
  {
   "cell_type": "code",
   "execution_count": 3,
   "id": "d3523742",
   "metadata": {},
   "outputs": [
    {
     "data": {
      "text/plain": [
       "age         0\n",
       "sex         0\n",
       "cp          0\n",
       "trestbps    0\n",
       "chol        0\n",
       "fbs         0\n",
       "restecg     0\n",
       "thalach     0\n",
       "exang       0\n",
       "oldpeak     0\n",
       "slope       0\n",
       "ca          0\n",
       "thal        0\n",
       "target      0\n",
       "dtype: int64"
      ]
     },
     "execution_count": 3,
     "metadata": {},
     "output_type": "execute_result"
    }
   ],
   "source": [
    "heart_df.isna().sum()"
   ]
  },
  {
   "cell_type": "markdown",
   "id": "0021f5ce",
   "metadata": {},
   "source": [
    "#### 5.2.3 Splitting into dependendent and target variables"
   ]
  },
  {
   "cell_type": "code",
   "execution_count": 4,
   "id": "e7a0b245",
   "metadata": {},
   "outputs": [
    {
     "data": {
      "text/plain": [
       "(     age  sex  cp  trestbps  chol  fbs  restecg  thalach  exang  oldpeak  \\\n",
       " 0     63    1   3       145   233    1        0      150      0      2.3   \n",
       " 1     37    1   2       130   250    0        1      187      0      3.5   \n",
       " 2     41    0   1       130   204    0        0      172      0      1.4   \n",
       " 3     56    1   1       120   236    0        1      178      0      0.8   \n",
       " 4     57    0   0       120   354    0        1      163      1      0.6   \n",
       " ..   ...  ...  ..       ...   ...  ...      ...      ...    ...      ...   \n",
       " 298   57    0   0       140   241    0        1      123      1      0.2   \n",
       " 299   45    1   3       110   264    0        1      132      0      1.2   \n",
       " 300   68    1   0       144   193    1        1      141      0      3.4   \n",
       " 301   57    1   0       130   131    0        1      115      1      1.2   \n",
       " 302   57    0   1       130   236    0        0      174      0      0.0   \n",
       " \n",
       "      slope  ca  thal  \n",
       " 0        0   0     1  \n",
       " 1        0   0     2  \n",
       " 2        2   0     2  \n",
       " 3        2   0     2  \n",
       " 4        2   0     2  \n",
       " ..     ...  ..   ...  \n",
       " 298      1   0     3  \n",
       " 299      1   0     3  \n",
       " 300      1   2     3  \n",
       " 301      1   1     3  \n",
       " 302      1   1     2  \n",
       " \n",
       " [303 rows x 13 columns],\n",
       " 0      1\n",
       " 1      1\n",
       " 2      1\n",
       " 3      1\n",
       " 4      1\n",
       "       ..\n",
       " 298    0\n",
       " 299    0\n",
       " 300    0\n",
       " 301    0\n",
       " 302    0\n",
       " Name: target, Length: 303, dtype: int64)"
      ]
     },
     "execution_count": 4,
     "metadata": {},
     "output_type": "execute_result"
    }
   ],
   "source": [
    "x = heart_df.drop(\"target\", axis = 1)\n",
    "y = heart_df[\"target\"]\n",
    "x_train, x_test, y_train, y_test = train_test_split(x, y, test_size=0.2)\n",
    "x, y"
   ]
  },
  {
   "cell_type": "markdown",
   "id": "d23a9206",
   "metadata": {},
   "source": [
    "### 5.3 Training models\n",
    "* Using Linear Support Vector Classifier estimator"
   ]
  },
  {
   "cell_type": "code",
   "execution_count": 5,
   "id": "a4af3dca",
   "metadata": {},
   "outputs": [
    {
     "name": "stderr",
     "output_type": "stream",
     "text": [
      "/Users/anuj-mac/Desktop/projects/mlProject1/env/lib/python3.11/site-packages/sklearn/model_selection/_search.py:305: UserWarning: The total space of parameters 5 is smaller than n_iter=10. Running 5 iterations. For exhaustive searches, use GridSearchCV.\n",
      "  warnings.warn(\n",
      "/Users/anuj-mac/Desktop/projects/mlProject1/env/lib/python3.11/site-packages/sklearn/svm/_base.py:1244: ConvergenceWarning: Liblinear failed to converge, increase the number of iterations.\n",
      "  warnings.warn(\n",
      "/Users/anuj-mac/Desktop/projects/mlProject1/env/lib/python3.11/site-packages/sklearn/svm/_base.py:1244: ConvergenceWarning: Liblinear failed to converge, increase the number of iterations.\n",
      "  warnings.warn(\n",
      "/Users/anuj-mac/Desktop/projects/mlProject1/env/lib/python3.11/site-packages/sklearn/svm/_base.py:1244: ConvergenceWarning: Liblinear failed to converge, increase the number of iterations.\n",
      "  warnings.warn(\n",
      "/Users/anuj-mac/Desktop/projects/mlProject1/env/lib/python3.11/site-packages/sklearn/svm/_base.py:1244: ConvergenceWarning: Liblinear failed to converge, increase the number of iterations.\n",
      "  warnings.warn(\n",
      "/Users/anuj-mac/Desktop/projects/mlProject1/env/lib/python3.11/site-packages/sklearn/svm/_base.py:1244: ConvergenceWarning: Liblinear failed to converge, increase the number of iterations.\n",
      "  warnings.warn(\n",
      "/Users/anuj-mac/Desktop/projects/mlProject1/env/lib/python3.11/site-packages/sklearn/svm/_base.py:1244: ConvergenceWarning: Liblinear failed to converge, increase the number of iterations.\n",
      "  warnings.warn(\n",
      "/Users/anuj-mac/Desktop/projects/mlProject1/env/lib/python3.11/site-packages/sklearn/svm/_base.py:1244: ConvergenceWarning: Liblinear failed to converge, increase the number of iterations.\n",
      "  warnings.warn(\n",
      "/Users/anuj-mac/Desktop/projects/mlProject1/env/lib/python3.11/site-packages/sklearn/svm/_base.py:1244: ConvergenceWarning: Liblinear failed to converge, increase the number of iterations.\n",
      "  warnings.warn(\n",
      "/Users/anuj-mac/Desktop/projects/mlProject1/env/lib/python3.11/site-packages/sklearn/svm/_base.py:1244: ConvergenceWarning: Liblinear failed to converge, increase the number of iterations.\n",
      "  warnings.warn(\n",
      "/Users/anuj-mac/Desktop/projects/mlProject1/env/lib/python3.11/site-packages/sklearn/svm/_base.py:1244: ConvergenceWarning: Liblinear failed to converge, increase the number of iterations.\n",
      "  warnings.warn(\n",
      "/Users/anuj-mac/Desktop/projects/mlProject1/env/lib/python3.11/site-packages/sklearn/svm/_base.py:1244: ConvergenceWarning: Liblinear failed to converge, increase the number of iterations.\n",
      "  warnings.warn(\n",
      "/Users/anuj-mac/Desktop/projects/mlProject1/env/lib/python3.11/site-packages/sklearn/svm/_base.py:1244: ConvergenceWarning: Liblinear failed to converge, increase the number of iterations.\n",
      "  warnings.warn(\n",
      "/Users/anuj-mac/Desktop/projects/mlProject1/env/lib/python3.11/site-packages/sklearn/svm/_base.py:1244: ConvergenceWarning: Liblinear failed to converge, increase the number of iterations.\n",
      "  warnings.warn(\n",
      "/Users/anuj-mac/Desktop/projects/mlProject1/env/lib/python3.11/site-packages/sklearn/svm/_base.py:1244: ConvergenceWarning: Liblinear failed to converge, increase the number of iterations.\n",
      "  warnings.warn(\n"
     ]
    },
    {
     "name": "stdout",
     "output_type": "stream",
     "text": [
      "Fitting 5 folds for each of 5 candidates, totalling 25 fits\n",
      "[CV] END ......................................max_iter=1000; total time=   0.0s\n",
      "[CV] END ......................................max_iter=1000; total time=   0.0s\n",
      "[CV] END ......................................max_iter=1000; total time=   0.0s\n",
      "[CV] END ......................................max_iter=1000; total time=   0.0s\n",
      "[CV] END ......................................max_iter=1000; total time=   0.0s\n",
      "[CV] END ......................................max_iter=2000; total time=   0.0s\n",
      "[CV] END ......................................max_iter=2000; total time=   0.0s\n",
      "[CV] END ......................................max_iter=2000; total time=   0.0s\n",
      "[CV] END ......................................max_iter=2000; total time=   0.0s\n",
      "[CV] END ......................................max_iter=2000; total time=   0.0s\n",
      "[CV] END ......................................max_iter=3000; total time=   0.0s\n",
      "[CV] END ......................................max_iter=3000; total time=   0.0s\n",
      "[CV] END ......................................max_iter=3000; total time=   0.0s\n",
      "[CV] END ......................................max_iter=3000; total time=   0.0s\n"
     ]
    },
    {
     "name": "stderr",
     "output_type": "stream",
     "text": [
      "/Users/anuj-mac/Desktop/projects/mlProject1/env/lib/python3.11/site-packages/sklearn/svm/_base.py:1244: ConvergenceWarning: Liblinear failed to converge, increase the number of iterations.\n",
      "  warnings.warn(\n",
      "/Users/anuj-mac/Desktop/projects/mlProject1/env/lib/python3.11/site-packages/sklearn/svm/_base.py:1244: ConvergenceWarning: Liblinear failed to converge, increase the number of iterations.\n",
      "  warnings.warn(\n",
      "/Users/anuj-mac/Desktop/projects/mlProject1/env/lib/python3.11/site-packages/sklearn/svm/_base.py:1244: ConvergenceWarning: Liblinear failed to converge, increase the number of iterations.\n",
      "  warnings.warn(\n",
      "/Users/anuj-mac/Desktop/projects/mlProject1/env/lib/python3.11/site-packages/sklearn/svm/_base.py:1244: ConvergenceWarning: Liblinear failed to converge, increase the number of iterations.\n",
      "  warnings.warn(\n",
      "/Users/anuj-mac/Desktop/projects/mlProject1/env/lib/python3.11/site-packages/sklearn/svm/_base.py:1244: ConvergenceWarning: Liblinear failed to converge, increase the number of iterations.\n",
      "  warnings.warn(\n",
      "/Users/anuj-mac/Desktop/projects/mlProject1/env/lib/python3.11/site-packages/sklearn/svm/_base.py:1244: ConvergenceWarning: Liblinear failed to converge, increase the number of iterations.\n",
      "  warnings.warn(\n",
      "/Users/anuj-mac/Desktop/projects/mlProject1/env/lib/python3.11/site-packages/sklearn/svm/_base.py:1244: ConvergenceWarning: Liblinear failed to converge, increase the number of iterations.\n",
      "  warnings.warn(\n",
      "/Users/anuj-mac/Desktop/projects/mlProject1/env/lib/python3.11/site-packages/sklearn/svm/_base.py:1244: ConvergenceWarning: Liblinear failed to converge, increase the number of iterations.\n",
      "  warnings.warn(\n"
     ]
    },
    {
     "name": "stdout",
     "output_type": "stream",
     "text": [
      "[CV] END ......................................max_iter=3000; total time=   0.0s\n",
      "[CV] END ......................................max_iter=4000; total time=   0.0s\n",
      "[CV] END ......................................max_iter=4000; total time=   0.0s\n",
      "[CV] END ......................................max_iter=4000; total time=   0.0s\n",
      "[CV] END ......................................max_iter=4000; total time=   0.0s\n",
      "[CV] END ......................................max_iter=4000; total time=   0.0s\n",
      "[CV] END ......................................max_iter=5000; total time=   0.0s\n",
      "[CV] END ......................................max_iter=5000; total time=   0.0s\n",
      "[CV] END ......................................max_iter=5000; total time=   0.0s\n",
      "[CV] END ......................................max_iter=5000; total time=   0.0s\n",
      "[CV] END ......................................max_iter=5000; total time=   0.0s\n",
      "Linear SVC Model accuracy = 0.62\n"
     ]
    },
    {
     "name": "stderr",
     "output_type": "stream",
     "text": [
      "/Users/anuj-mac/Desktop/projects/mlProject1/env/lib/python3.11/site-packages/sklearn/svm/_base.py:1244: ConvergenceWarning: Liblinear failed to converge, increase the number of iterations.\n",
      "  warnings.warn(\n",
      "/Users/anuj-mac/Desktop/projects/mlProject1/env/lib/python3.11/site-packages/sklearn/svm/_base.py:1244: ConvergenceWarning: Liblinear failed to converge, increase the number of iterations.\n",
      "  warnings.warn(\n",
      "/Users/anuj-mac/Desktop/projects/mlProject1/env/lib/python3.11/site-packages/sklearn/svm/_base.py:1244: ConvergenceWarning: Liblinear failed to converge, increase the number of iterations.\n",
      "  warnings.warn(\n",
      "/Users/anuj-mac/Desktop/projects/mlProject1/env/lib/python3.11/site-packages/sklearn/svm/_base.py:1244: ConvergenceWarning: Liblinear failed to converge, increase the number of iterations.\n",
      "  warnings.warn(\n"
     ]
    },
    {
     "data": {
      "text/plain": [
       "<sklearn.metrics._plot.confusion_matrix.ConfusionMatrixDisplay at 0x13d17d450>"
      ]
     },
     "execution_count": 5,
     "metadata": {},
     "output_type": "execute_result"
    },
    {
     "data": {
      "image/png": "[encoded data removed]",
      "text/plain": [
       "<Figure size 640x480 with 2 Axes>"
      ]
     },
     "metadata": {},
     "output_type": "display_data"
    }
   ],
   "source": [
    "#Set random seed\n",
    "np.random.seed(42)\n",
    "\n",
    "#Hyper Parameters to use\n",
    "hyperParameters = {\n",
    "    \"max_iter\" : [1000, 2000, 3000, 4000, 5000]\n",
    "}\n",
    "\n",
    "#Instantiating model\n",
    "linearSVCModel = LinearSVC()\n",
    "rs_linearSVCModel = RandomizedSearchCV(linearSVCModel, hyperParameters, cv = 5, verbose = 2)\n",
    "\n",
    "#Fitting data\n",
    "rs_linearSVCModel.fit(x_train, y_train)\n",
    "\n",
    "#Making predictions\n",
    "y_preds1 = rs_linearSVCModel.predict(x_test)\n",
    "\n",
    "#score of model\n",
    "rs_linearSVCModel_score = rs_linearSVCModel.score(x_test, y_test)\n",
    "print(f\"Linear SVC Model accuracy = {rs_linearSVCModel_score:.2f}\")\n",
    "\n",
    "#confusion matrix display \n",
    "ConfusionMatrixDisplay.from_predictions(y_test, y_preds1)"
   ]
  },
  {
   "cell_type": "markdown",
   "id": "c8bf3744",
   "metadata": {},
   "source": [
    "* Using KNeighborsClassifier estimator"
   ]
  },
  {
   "cell_type": "code",
   "execution_count": 6,
   "id": "a9ff1671",
   "metadata": {
    "scrolled": true
   },
   "outputs": [
    {
     "name": "stdout",
     "output_type": "stream",
     "text": [
      "Fitting 5 folds for each of 10 candidates, totalling 50 fits\n",
      "[CV] END .....................algorithm=brute, n_neighbors=7; total time=   0.0s\n",
      "[CV] END .....................algorithm=brute, n_neighbors=7; total time=   0.0s\n",
      "[CV] END .....................algorithm=brute, n_neighbors=7; total time=   0.0s\n",
      "[CV] END .....................algorithm=brute, n_neighbors=7; total time=   0.0s\n",
      "[CV] END .....................algorithm=brute, n_neighbors=7; total time=   0.0s\n",
      "[CV] END .....................algorithm=brute, n_neighbors=5; total time=   0.0s\n",
      "[CV] END .....................algorithm=brute, n_neighbors=5; total time=   0.0s\n",
      "[CV] END .....................algorithm=brute, n_neighbors=5; total time=   0.0s\n",
      "[CV] END .....................algorithm=brute, n_neighbors=5; total time=   0.0s\n",
      "[CV] END .....................algorithm=brute, n_neighbors=5; total time=   0.0s\n",
      "[CV] END .................algorithm=ball_tree, n_neighbors=3; total time=   0.0s\n",
      "[CV] END .................algorithm=ball_tree, n_neighbors=3; total time=   0.0s\n",
      "[CV] END .................algorithm=ball_tree, n_neighbors=3; total time=   0.0s\n",
      "[CV] END .................algorithm=ball_tree, n_neighbors=3; total time=   0.0s\n",
      "[CV] END .................algorithm=ball_tree, n_neighbors=3; total time=   0.0s\n",
      "[CV] END .....................algorithm=brute, n_neighbors=3; total time=   0.0s\n",
      "[CV] END .....................algorithm=brute, n_neighbors=3; total time=   0.0s\n",
      "[CV] END .....................algorithm=brute, n_neighbors=3; total time=   0.0s\n",
      "[CV] END .....................algorithm=brute, n_neighbors=3; total time=   0.0s\n",
      "[CV] END .....................algorithm=brute, n_neighbors=3; total time=   0.0s\n",
      "[CV] END ...................algorithm=kd_tree, n_neighbors=5; total time=   0.0s\n",
      "[CV] END ...................algorithm=kd_tree, n_neighbors=5; total time=   0.0s\n",
      "[CV] END ...................algorithm=kd_tree, n_neighbors=5; total time=   0.0s\n",
      "[CV] END ...................algorithm=kd_tree, n_neighbors=5; total time=   0.0s\n",
      "[CV] END ...................algorithm=kd_tree, n_neighbors=5; total time=   0.0s\n",
      "[CV] END .................algorithm=ball_tree, n_neighbors=7; total time=   0.0s\n",
      "[CV] END .................algorithm=ball_tree, n_neighbors=7; total time=   0.0s\n",
      "[CV] END .................algorithm=ball_tree, n_neighbors=7; total time=   0.0s\n",
      "[CV] END .................algorithm=ball_tree, n_neighbors=7; total time=   0.0s\n",
      "[CV] END .................algorithm=ball_tree, n_neighbors=7; total time=   0.0s\n",
      "[CV] END .................algorithm=ball_tree, n_neighbors=5; total time=   0.0s\n",
      "[CV] END .................algorithm=ball_tree, n_neighbors=5; total time=   0.0s\n",
      "[CV] END .................algorithm=ball_tree, n_neighbors=5; total time=   0.0s\n",
      "[CV] END .................algorithm=ball_tree, n_neighbors=5; total time=   0.0s\n",
      "[CV] END .................algorithm=ball_tree, n_neighbors=5; total time=   0.0s\n",
      "[CV] END .....................algorithm=brute, n_neighbors=9; total time=   0.0s\n",
      "[CV] END .....................algorithm=brute, n_neighbors=9; total time=   0.0s\n",
      "[CV] END .....................algorithm=brute, n_neighbors=9; total time=   0.0s\n",
      "[CV] END .....................algorithm=brute, n_neighbors=9; total time=   0.0s\n",
      "[CV] END .....................algorithm=brute, n_neighbors=9; total time=   0.0s\n",
      "[CV] END ...................algorithm=kd_tree, n_neighbors=3; total time=   0.0s\n",
      "[CV] END ...................algorithm=kd_tree, n_neighbors=3; total time=   0.0s\n",
      "[CV] END ...................algorithm=kd_tree, n_neighbors=3; total time=   0.0s\n",
      "[CV] END ...................algorithm=kd_tree, n_neighbors=3; total time=   0.0s\n",
      "[CV] END ...................algorithm=kd_tree, n_neighbors=3; total time=   0.0s\n",
      "[CV] END ...................algorithm=kd_tree, n_neighbors=9; total time=   0.0s\n",
      "[CV] END ...................algorithm=kd_tree, n_neighbors=9; total time=   0.0s\n",
      "[CV] END ...................algorithm=kd_tree, n_neighbors=9; total time=   0.0s\n",
      "[CV] END ...................algorithm=kd_tree, n_neighbors=9; total time=   0.0s\n",
      "[CV] END ...................algorithm=kd_tree, n_neighbors=9; total time=   0.0s\n",
      "KNeighbor Classifier Model accuracy = 0.79\n"
     ]
    },
    {
     "data": {
      "text/plain": [
       "<sklearn.metrics._plot.confusion_matrix.ConfusionMatrixDisplay at 0x13d1fee50>"
      ]
     },
     "execution_count": 6,
     "metadata": {},
     "output_type": "execute_result"
    },
    {
     "data": {
      "image/png": "[encoded data removed]",
      "text/plain": [
       "<Figure size 640x480 with 2 Axes>"
      ]
     },
     "metadata": {},
     "output_type": "display_data"
    }
   ],
   "source": [
    "#Set random seed\n",
    "np.random.seed(42)\n",
    "\n",
    "#Hyper Parameters to use\n",
    "hyperParameters = {\n",
    "    \"n_neighbors\": [3, 5, 7, 9],\n",
    "    \"algorithm\": [\"ball_tree\", \"kd_tree\", \"brute\"]\n",
    "}\n",
    "\n",
    "#Instantiating model\n",
    "model = KNeighborsClassifier()\n",
    "rs_KNeighborsModel = RandomizedSearchCV(model, hyperParameters, cv = 5, verbose = 2)\n",
    "\n",
    "#Fitting data\n",
    "rs_KNeighborsModel.fit(x_test, y_test)\n",
    "\n",
    "#Making predictions\n",
    "y_preds2 = rs_KNeighborsModel.predict(x_test)\n",
    "\n",
    "#score of model\n",
    "rs_KNeighborModel_score = rs_KNeighborsModel.score(x_test, y_test)\n",
    "print(f\"KNeighbor Classifier Model accuracy = {rs_KNeighborModel_score:.2f}\")\n",
    "\n",
    "#confusion matrix display \n",
    "ConfusionMatrixDisplay.from_predictions(y_test, y_preds2)"
   ]
  },
  {
   "cell_type": "markdown",
   "id": "ef7c878d",
   "metadata": {},
   "source": [
    "* Using RandomForestClassifier estimator"
   ]
  },
  {
   "cell_type": "code",
   "execution_count": 7,
   "id": "e11165a6",
   "metadata": {
    "scrolled": true
   },
   "outputs": [
    {
     "name": "stdout",
     "output_type": "stream",
     "text": [
      "Fitting 5 folds for each of 10 candidates, totalling 50 fits\n",
      "[CV] END max_depth=10, max_features=auto, min_samples_leaf=1, min_samples_split=6, n_estimators=100; total time=   0.0s\n",
      "[CV] END max_depth=10, max_features=auto, min_samples_leaf=1, min_samples_split=6, n_estimators=100; total time=   0.0s\n",
      "[CV] END max_depth=10, max_features=auto, min_samples_leaf=1, min_samples_split=6, n_estimators=100; total time=   0.0s\n",
      "[CV] END max_depth=10, max_features=auto, min_samples_leaf=1, min_samples_split=6, n_estimators=100; total time=   0.0s\n"
     ]
    },
    {
     "name": "stderr",
     "output_type": "stream",
     "text": [
      "/Users/anuj-mac/Desktop/projects/mlProject1/env/lib/python3.11/site-packages/sklearn/ensemble/_forest.py:424: FutureWarning: `max_features='auto'` has been deprecated in 1.1 and will be removed in 1.3. To keep the past behaviour, explicitly set `max_features='sqrt'` or remove this parameter as it is also the default value for RandomForestClassifiers and ExtraTreesClassifiers.\n",
      "  warn(\n",
      "/Users/anuj-mac/Desktop/projects/mlProject1/env/lib/python3.11/site-packages/sklearn/ensemble/_forest.py:424: FutureWarning: `max_features='auto'` has been deprecated in 1.1 and will be removed in 1.3. To keep the past behaviour, explicitly set `max_features='sqrt'` or remove this parameter as it is also the default value for RandomForestClassifiers and ExtraTreesClassifiers.\n",
      "  warn(\n",
      "/Users/anuj-mac/Desktop/projects/mlProject1/env/lib/python3.11/site-packages/sklearn/ensemble/_forest.py:424: FutureWarning: `max_features='auto'` has been deprecated in 1.1 and will be removed in 1.3. To keep the past behaviour, explicitly set `max_features='sqrt'` or remove this parameter as it is also the default value for RandomForestClassifiers and ExtraTreesClassifiers.\n",
      "  warn(\n",
      "/Users/anuj-mac/Desktop/projects/mlProject1/env/lib/python3.11/site-packages/sklearn/ensemble/_forest.py:424: FutureWarning: `max_features='auto'` has been deprecated in 1.1 and will be removed in 1.3. To keep the past behaviour, explicitly set `max_features='sqrt'` or remove this parameter as it is also the default value for RandomForestClassifiers and ExtraTreesClassifiers.\n",
      "  warn(\n",
      "/Users/anuj-mac/Desktop/projects/mlProject1/env/lib/python3.11/site-packages/sklearn/ensemble/_forest.py:424: FutureWarning: `max_features='auto'` has been deprecated in 1.1 and will be removed in 1.3. To keep the past behaviour, explicitly set `max_features='sqrt'` or remove this parameter as it is also the default value for RandomForestClassifiers and ExtraTreesClassifiers.\n",
      "  warn(\n"
     ]
    },
    {
     "name": "stdout",
     "output_type": "stream",
     "text": [
      "[CV] END max_depth=10, max_features=auto, min_samples_leaf=1, min_samples_split=6, n_estimators=100; total time=   0.0s\n",
      "[CV] END max_depth=None, max_features=sqrt, min_samples_leaf=2, min_samples_split=2, n_estimators=100; total time=   0.0s\n",
      "[CV] END max_depth=None, max_features=sqrt, min_samples_leaf=2, min_samples_split=2, n_estimators=100; total time=   0.0s\n",
      "[CV] END max_depth=None, max_features=sqrt, min_samples_leaf=2, min_samples_split=2, n_estimators=100; total time=   0.0s\n",
      "[CV] END max_depth=None, max_features=sqrt, min_samples_leaf=2, min_samples_split=2, n_estimators=100; total time=   0.0s\n",
      "[CV] END max_depth=None, max_features=sqrt, min_samples_leaf=2, min_samples_split=2, n_estimators=100; total time=   0.0s\n",
      "[CV] END max_depth=30, max_features=sqrt, min_samples_leaf=2, min_samples_split=6, n_estimators=1200; total time=   0.5s\n",
      "[CV] END max_depth=30, max_features=sqrt, min_samples_leaf=2, min_samples_split=6, n_estimators=1200; total time=   0.5s\n",
      "[CV] END max_depth=30, max_features=sqrt, min_samples_leaf=2, min_samples_split=6, n_estimators=1200; total time=   0.5s\n",
      "[CV] END max_depth=30, max_features=sqrt, min_samples_leaf=2, min_samples_split=6, n_estimators=1200; total time=   0.5s\n",
      "[CV] END max_depth=30, max_features=sqrt, min_samples_leaf=2, min_samples_split=6, n_estimators=1200; total time=   0.5s\n",
      "[CV] END max_depth=None, max_features=sqrt, min_samples_leaf=2, min_samples_split=6, n_estimators=200; total time=   0.1s\n",
      "[CV] END max_depth=None, max_features=sqrt, min_samples_leaf=2, min_samples_split=6, n_estimators=200; total time=   0.1s\n",
      "[CV] END max_depth=None, max_features=sqrt, min_samples_leaf=2, min_samples_split=6, n_estimators=200; total time=   0.1s\n",
      "[CV] END max_depth=None, max_features=sqrt, min_samples_leaf=2, min_samples_split=6, n_estimators=200; total time=   0.1s\n",
      "[CV] END max_depth=None, max_features=sqrt, min_samples_leaf=2, min_samples_split=6, n_estimators=200; total time=   0.1s\n",
      "[CV] END max_depth=30, max_features=auto, min_samples_leaf=4, min_samples_split=2, n_estimators=100; total time=   0.0s\n",
      "[CV] END max_depth=30, max_features=auto, min_samples_leaf=4, min_samples_split=2, n_estimators=100; total time=   0.0s\n"
     ]
    },
    {
     "name": "stderr",
     "output_type": "stream",
     "text": [
      "/Users/anuj-mac/Desktop/projects/mlProject1/env/lib/python3.11/site-packages/sklearn/ensemble/_forest.py:424: FutureWarning: `max_features='auto'` has been deprecated in 1.1 and will be removed in 1.3. To keep the past behaviour, explicitly set `max_features='sqrt'` or remove this parameter as it is also the default value for RandomForestClassifiers and ExtraTreesClassifiers.\n",
      "  warn(\n",
      "/Users/anuj-mac/Desktop/projects/mlProject1/env/lib/python3.11/site-packages/sklearn/ensemble/_forest.py:424: FutureWarning: `max_features='auto'` has been deprecated in 1.1 and will be removed in 1.3. To keep the past behaviour, explicitly set `max_features='sqrt'` or remove this parameter as it is also the default value for RandomForestClassifiers and ExtraTreesClassifiers.\n",
      "  warn(\n",
      "/Users/anuj-mac/Desktop/projects/mlProject1/env/lib/python3.11/site-packages/sklearn/ensemble/_forest.py:424: FutureWarning: `max_features='auto'` has been deprecated in 1.1 and will be removed in 1.3. To keep the past behaviour, explicitly set `max_features='sqrt'` or remove this parameter as it is also the default value for RandomForestClassifiers and ExtraTreesClassifiers.\n",
      "  warn(\n",
      "/Users/anuj-mac/Desktop/projects/mlProject1/env/lib/python3.11/site-packages/sklearn/ensemble/_forest.py:424: FutureWarning: `max_features='auto'` has been deprecated in 1.1 and will be removed in 1.3. To keep the past behaviour, explicitly set `max_features='sqrt'` or remove this parameter as it is also the default value for RandomForestClassifiers and ExtraTreesClassifiers.\n",
      "  warn(\n",
      "/Users/anuj-mac/Desktop/projects/mlProject1/env/lib/python3.11/site-packages/sklearn/ensemble/_forest.py:424: FutureWarning: `max_features='auto'` has been deprecated in 1.1 and will be removed in 1.3. To keep the past behaviour, explicitly set `max_features='sqrt'` or remove this parameter as it is also the default value for RandomForestClassifiers and ExtraTreesClassifiers.\n",
      "  warn(\n"
     ]
    },
    {
     "name": "stdout",
     "output_type": "stream",
     "text": [
      "[CV] END max_depth=30, max_features=auto, min_samples_leaf=4, min_samples_split=2, n_estimators=100; total time=   0.0s\n",
      "[CV] END max_depth=30, max_features=auto, min_samples_leaf=4, min_samples_split=2, n_estimators=100; total time=   0.0s\n",
      "[CV] END max_depth=30, max_features=auto, min_samples_leaf=4, min_samples_split=2, n_estimators=100; total time=   0.0s\n",
      "[CV] END max_depth=None, max_features=sqrt, min_samples_leaf=2, min_samples_split=2, n_estimators=1200; total time=   0.5s\n",
      "[CV] END max_depth=None, max_features=sqrt, min_samples_leaf=2, min_samples_split=2, n_estimators=1200; total time=   0.5s\n",
      "[CV] END max_depth=None, max_features=sqrt, min_samples_leaf=2, min_samples_split=2, n_estimators=1200; total time=   0.5s\n",
      "[CV] END max_depth=None, max_features=sqrt, min_samples_leaf=2, min_samples_split=2, n_estimators=1200; total time=   0.5s\n",
      "[CV] END max_depth=None, max_features=sqrt, min_samples_leaf=2, min_samples_split=2, n_estimators=1200; total time=   0.5s\n",
      "[CV] END max_depth=10, max_features=sqrt, min_samples_leaf=2, min_samples_split=4, n_estimators=500; total time=   0.2s\n",
      "[CV] END max_depth=10, max_features=sqrt, min_samples_leaf=2, min_samples_split=4, n_estimators=500; total time=   0.2s\n",
      "[CV] END max_depth=10, max_features=sqrt, min_samples_leaf=2, min_samples_split=4, n_estimators=500; total time=   0.2s\n",
      "[CV] END max_depth=10, max_features=sqrt, min_samples_leaf=2, min_samples_split=4, n_estimators=500; total time=   0.2s\n",
      "[CV] END max_depth=10, max_features=sqrt, min_samples_leaf=2, min_samples_split=4, n_estimators=500; total time=   0.2s\n",
      "[CV] END max_depth=20, max_features=sqrt, min_samples_leaf=4, min_samples_split=2, n_estimators=1000; total time=   0.4s\n",
      "[CV] END max_depth=20, max_features=sqrt, min_samples_leaf=4, min_samples_split=2, n_estimators=1000; total time=   0.4s\n",
      "[CV] END max_depth=20, max_features=sqrt, min_samples_leaf=4, min_samples_split=2, n_estimators=1000; total time=   0.4s\n",
      "[CV] END max_depth=20, max_features=sqrt, min_samples_leaf=4, min_samples_split=2, n_estimators=1000; total time=   0.4s\n",
      "[CV] END max_depth=20, max_features=sqrt, min_samples_leaf=4, min_samples_split=2, n_estimators=1000; total time=   0.4s\n",
      "[CV] END max_depth=20, max_features=auto, min_samples_leaf=2, min_samples_split=2, n_estimators=10; total time=   0.0s\n",
      "[CV] END max_depth=20, max_features=auto, min_samples_leaf=2, min_samples_split=2, n_estimators=10; total time=   0.0s\n",
      "[CV] END max_depth=20, max_features=auto, min_samples_leaf=2, min_samples_split=2, n_estimators=10; total time=   0.0s\n",
      "[CV] END max_depth=20, max_features=auto, min_samples_leaf=2, min_samples_split=2, n_estimators=10; total time=   0.0s\n",
      "[CV] END max_depth=20, max_features=auto, min_samples_leaf=2, min_samples_split=2, n_estimators=10; total time=   0.0s\n"
     ]
    },
    {
     "name": "stderr",
     "output_type": "stream",
     "text": [
      "/Users/anuj-mac/Desktop/projects/mlProject1/env/lib/python3.11/site-packages/sklearn/ensemble/_forest.py:424: FutureWarning: `max_features='auto'` has been deprecated in 1.1 and will be removed in 1.3. To keep the past behaviour, explicitly set `max_features='sqrt'` or remove this parameter as it is also the default value for RandomForestClassifiers and ExtraTreesClassifiers.\n",
      "  warn(\n",
      "/Users/anuj-mac/Desktop/projects/mlProject1/env/lib/python3.11/site-packages/sklearn/ensemble/_forest.py:424: FutureWarning: `max_features='auto'` has been deprecated in 1.1 and will be removed in 1.3. To keep the past behaviour, explicitly set `max_features='sqrt'` or remove this parameter as it is also the default value for RandomForestClassifiers and ExtraTreesClassifiers.\n",
      "  warn(\n",
      "/Users/anuj-mac/Desktop/projects/mlProject1/env/lib/python3.11/site-packages/sklearn/ensemble/_forest.py:424: FutureWarning: `max_features='auto'` has been deprecated in 1.1 and will be removed in 1.3. To keep the past behaviour, explicitly set `max_features='sqrt'` or remove this parameter as it is also the default value for RandomForestClassifiers and ExtraTreesClassifiers.\n",
      "  warn(\n",
      "/Users/anuj-mac/Desktop/projects/mlProject1/env/lib/python3.11/site-packages/sklearn/ensemble/_forest.py:424: FutureWarning: `max_features='auto'` has been deprecated in 1.1 and will be removed in 1.3. To keep the past behaviour, explicitly set `max_features='sqrt'` or remove this parameter as it is also the default value for RandomForestClassifiers and ExtraTreesClassifiers.\n",
      "  warn(\n",
      "/Users/anuj-mac/Desktop/projects/mlProject1/env/lib/python3.11/site-packages/sklearn/ensemble/_forest.py:424: FutureWarning: `max_features='auto'` has been deprecated in 1.1 and will be removed in 1.3. To keep the past behaviour, explicitly set `max_features='sqrt'` or remove this parameter as it is also the default value for RandomForestClassifiers and ExtraTreesClassifiers.\n",
      "  warn(\n"
     ]
    },
    {
     "name": "stdout",
     "output_type": "stream",
     "text": [
      "[CV] END max_depth=20, max_features=sqrt, min_samples_leaf=1, min_samples_split=2, n_estimators=1200; total time=   0.5s\n",
      "[CV] END max_depth=20, max_features=sqrt, min_samples_leaf=1, min_samples_split=2, n_estimators=1200; total time=   0.5s\n",
      "[CV] END max_depth=20, max_features=sqrt, min_samples_leaf=1, min_samples_split=2, n_estimators=1200; total time=   0.5s\n",
      "[CV] END max_depth=20, max_features=sqrt, min_samples_leaf=1, min_samples_split=2, n_estimators=1200; total time=   0.5s\n",
      "[CV] END max_depth=20, max_features=sqrt, min_samples_leaf=1, min_samples_split=2, n_estimators=1200; total time=   0.5s\n",
      "Random Forest Classifier Model accuracy = 0.95\n"
     ]
    },
    {
     "name": "stderr",
     "output_type": "stream",
     "text": [
      "/Users/anuj-mac/Desktop/projects/mlProject1/env/lib/python3.11/site-packages/sklearn/ensemble/_forest.py:424: FutureWarning: `max_features='auto'` has been deprecated in 1.1 and will be removed in 1.3. To keep the past behaviour, explicitly set `max_features='sqrt'` or remove this parameter as it is also the default value for RandomForestClassifiers and ExtraTreesClassifiers.\n",
      "  warn(\n"
     ]
    },
    {
     "data": {
      "text/plain": [
       "<sklearn.metrics._plot.confusion_matrix.ConfusionMatrixDisplay at 0x13e2ca090>"
      ]
     },
     "execution_count": 7,
     "metadata": {},
     "output_type": "execute_result"
    },
    {
     "data": {
      "image/png": "[encoded data removed]",
      "text/plain": [
       "<Figure size 640x480 with 2 Axes>"
      ]
     },
     "metadata": {},
     "output_type": "display_data"
    }
   ],
   "source": [
    "#Set random seed\n",
    "np.random.seed(42)\n",
    "\n",
    "#Hyper Parameters to use\n",
    "hyperParameters = {\n",
    "    \"n_estimators\": [10, 100, 200, 500, 1000, 1200],\n",
    "    \"max_depth\": [None, 5, 10, 20, 30],\n",
    "    \"max_features\": [\"auto\", \"sqrt\"],\n",
    "    \"min_samples_split\": [2, 4, 6],\n",
    "    \"min_samples_leaf\": [1, 2, 4]\n",
    "}\n",
    "\n",
    "#Instantiating model\n",
    "model = RandomForestClassifier()\n",
    "rs_RandomForestClassifier = RandomizedSearchCV(model, hyperParameters, cv = 5, verbose = 2)\n",
    "\n",
    "#Fitting data\n",
    "rs_RandomForestClassifier.fit(x_test, y_test)\n",
    "\n",
    "#Making predictions\n",
    "y_preds3 = rs_RandomForestClassifier.predict(x_test)\n",
    "\n",
    "#score of model\n",
    "rs_RandomForestClassifierModel_score = rs_RandomForestClassifier.score(x_test, y_test)\n",
    "print(f\"Random Forest Classifier Model accuracy = {rs_RandomForestClassifierModel_score:.2f}\")\n",
    "\n",
    "#confusion matrix display \n",
    "ConfusionMatrixDisplay.from_predictions(y_test, y_preds3)"
   ]
  },
  {
   "cell_type": "markdown",
   "id": "b4ea114a",
   "metadata": {},
   "source": [
    "### 6. Comparison"
   ]
  },
  {
   "cell_type": "code",
   "execution_count": 8,
   "id": "a6b0dfff",
   "metadata": {},
   "outputs": [],
   "source": [
    "def evaluatePrediction(y_true, y_preds):\n",
    "    accuracy = accuracy_score(y_true, y_preds)\n",
    "    precision = precision_score(y_true, y_preds)\n",
    "    recall = recall_score(y_true, y_preds)\n",
    "    f1 = f1_score(y_true, y_preds)\n",
    "    return {\"accuracy\": round(accuracy, 2),\n",
    "           \"precision\": round(precision, 2),\n",
    "           \"recall\": round(recall, 2),\n",
    "           \"f1-score\": round(f1, 2)}\n"
   ]
  },
  {
   "cell_type": "code",
   "execution_count": 9,
   "id": "03da88d0",
   "metadata": {},
   "outputs": [
    {
     "data": {
      "text/plain": [
       "<Axes: >"
      ]
     },
     "execution_count": 9,
     "metadata": {},
     "output_type": "execute_result"
    },
    {
     "data": {
      "image/png": "[encoded data removed]",
      "text/plain": [
       "<Figure size 640x480 with 1 Axes>"
      ]
     },
     "metadata": {},
     "output_type": "display_data"
    }
   ],
   "source": [
    "evaluate_metrics = pd.DataFrame({\n",
    "    \"Linear SVC\": evaluatePrediction(y_test, y_preds1),\n",
    "    \"KNeighbors Classifier\": evaluatePrediction(y_test, y_preds2),\n",
    "    \"Random Forest Classifier\": evaluatePrediction(y_test, y_preds3)\n",
    "})\n",
    "evaluate_metrics.plot.bar()"
   ]
  },
  {
   "cell_type": "code",
   "execution_count": 11,
   "id": "5967761d",
   "metadata": {},
   "outputs": [
    {
     "data": {
      "text/plain": [
       "['model/RandomForestClassifier.joblib']"
      ]
     },
     "execution_count": 11,
     "metadata": {},
     "output_type": "execute_result"
    }
   ],
   "source": [
    "#save models\n",
    "\n",
    "#Linear SVC\n",
    "dump(rs_linearSVCModel, filename = \"model/LinearSVCModel.joblib\")\n",
    "\n",
    "#KNeighbors Classifier\n",
    "dump(rs_KNeighborsModel, filename = \"model/KNeighborsClassifier.joblib\")\n",
    "\n",
    "#Random Forest Classifier\n",
    "dump(rs_RandomForestClassifier, filename = \"model/RandomForestClassifier.joblib\")"
   ]
  },
  {
   "cell_type": "code",
   "execution_count": null,
   "id": "c76de669",
   "metadata": {},
   "outputs": [],
   "source": []
  }
 ],
 "metadata": {
  "kernelspec": {
   "display_name": "Python 3 (ipykernel)",
   "language": "python",
   "name": "python3"
  },
  "language_info": {
   "codemirror_mode": {
    "name": "ipython",
    "version": 3
   },
   "file_extension": ".py",
   "mimetype": "text/x-python",
   "name": "python",
   "nbconvert_exporter": "python",
   "pygments_lexer": "ipython3",
   "version": "3.11.2"
  }
 },
 "nbformat": 4,
 "nbformat_minor": 5
}
